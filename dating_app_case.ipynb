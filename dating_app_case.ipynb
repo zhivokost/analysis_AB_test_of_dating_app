{
 "cells": [
  {
   "cell_type": "markdown",
   "id": "5610f4ef",
   "metadata": {},
   "source": [
    "## Приложение для онлайн-знакомств\n",
    "\n",
    "Механика приложения следующая: пользователи видят в приложении анкеты друг друга и могут ставить друг другу лайки или дизлайки. Если пользователи поставили друг другу лайк – это называется мэтч, и у пользователей появляется возможность познакомиться.\n",
    "\n",
    "Команда приложения разработала новый алгоритм для поиска наиболее подходящих анкет. Для проверки работы алгоритма был проведен АБ-тест. Все пользователи были разделены на две группы. Пользователи в группе с номером 0 пользовались приложением со старым алгоритмом. Все пользователи в группе 1 пользовались приложением с новым алгоритмом для поиска анкет.\n",
    "\n",
    "Задача – оценить, правда ли, что новый алгоритм улучшил качество сервиса. Для этого нужно выбрать метрики, которые отвечают за качество сервиса, и статистически сравнить эти метрики в двух группах.\n",
    "\n",
    "В данных находится выгрузка логов взаимодействия пользователей друг с другом. Для каждой пары пользователей указано, из какой они группы АБ-теста и случился ли у них мэтч.\n",
    "\n",
    "Результат работы – аналитическое заключение с ответом на вопрос, стоит ли включать новую систему поиска анкет на всех пользователей."
   ]
  },
  {
   "cell_type": "markdown",
   "id": "53683bee",
   "metadata": {},
   "source": [
    "## 1. Предобработка и предварительный анализ\n",
    "\n",
    "* импортируем необходимые для анализа библиотеки:"
   ]
  },
  {
   "cell_type": "code",
   "execution_count": 1,
   "id": "404f0bb5",
   "metadata": {},
   "outputs": [],
   "source": [
    "import numpy as np\n",
    "import pandas as pd\n",
    "\n",
    "import scipy.stats as ss\n",
    "import pingouin as pg\n",
    "\n",
    "import seaborn as sns\n",
    "import matplotlib.pyplot as plt"
   ]
  },
  {
   "cell_type": "markdown",
   "id": "83416308",
   "metadata": {},
   "source": [
    "* подгрузим данные и произведем \"первичный\" осмотр:"
   ]
  },
  {
   "cell_type": "code",
   "execution_count": 2,
   "id": "4feb5b03",
   "metadata": {},
   "outputs": [],
   "source": [
    "df = pd.read_csv('dating_data.csv')"
   ]
  },
  {
   "cell_type": "code",
   "execution_count": 3,
   "id": "93f4bbb8",
   "metadata": {},
   "outputs": [
    {
     "data": {
      "text/html": [
       "<div>\n",
       "<style scoped>\n",
       "    .dataframe tbody tr th:only-of-type {\n",
       "        vertical-align: middle;\n",
       "    }\n",
       "\n",
       "    .dataframe tbody tr th {\n",
       "        vertical-align: top;\n",
       "    }\n",
       "\n",
       "    .dataframe thead th {\n",
       "        text-align: right;\n",
       "    }\n",
       "</style>\n",
       "<table border=\"1\" class=\"dataframe\">\n",
       "  <thead>\n",
       "    <tr style=\"text-align: right;\">\n",
       "      <th></th>\n",
       "      <th>user_id_1</th>\n",
       "      <th>user_id_2</th>\n",
       "      <th>group</th>\n",
       "      <th>is_match</th>\n",
       "    </tr>\n",
       "  </thead>\n",
       "  <tbody>\n",
       "    <tr>\n",
       "      <th>0</th>\n",
       "      <td>79</td>\n",
       "      <td>91</td>\n",
       "      <td>1</td>\n",
       "      <td>1</td>\n",
       "    </tr>\n",
       "    <tr>\n",
       "      <th>1</th>\n",
       "      <td>716</td>\n",
       "      <td>353</td>\n",
       "      <td>1</td>\n",
       "      <td>1</td>\n",
       "    </tr>\n",
       "    <tr>\n",
       "      <th>2</th>\n",
       "      <td>423</td>\n",
       "      <td>677</td>\n",
       "      <td>0</td>\n",
       "      <td>0</td>\n",
       "    </tr>\n",
       "    <tr>\n",
       "      <th>3</th>\n",
       "      <td>658</td>\n",
       "      <td>165</td>\n",
       "      <td>1</td>\n",
       "      <td>1</td>\n",
       "    </tr>\n",
       "    <tr>\n",
       "      <th>4</th>\n",
       "      <td>969</td>\n",
       "      <td>155</td>\n",
       "      <td>0</td>\n",
       "      <td>1</td>\n",
       "    </tr>\n",
       "  </tbody>\n",
       "</table>\n",
       "</div>"
      ],
      "text/plain": [
       "   user_id_1  user_id_2  group  is_match\n",
       "0         79         91      1         1\n",
       "1        716        353      1         1\n",
       "2        423        677      0         0\n",
       "3        658        165      1         1\n",
       "4        969        155      0         1"
      ]
     },
     "execution_count": 3,
     "metadata": {},
     "output_type": "execute_result"
    }
   ],
   "source": [
    "df.head()"
   ]
  },
  {
   "cell_type": "code",
   "execution_count": 4,
   "id": "a12439e9",
   "metadata": {},
   "outputs": [
    {
     "name": "stdout",
     "output_type": "stream",
     "text": [
      "<class 'pandas.core.frame.DataFrame'>\n",
      "RangeIndex: 14514 entries, 0 to 14513\n",
      "Data columns (total 4 columns):\n",
      " #   Column     Non-Null Count  Dtype\n",
      "---  ------     --------------  -----\n",
      " 0   user_id_1  14514 non-null  int64\n",
      " 1   user_id_2  14514 non-null  int64\n",
      " 2   group      14514 non-null  int64\n",
      " 3   is_match   14514 non-null  int64\n",
      "dtypes: int64(4)\n",
      "memory usage: 453.7 KB\n"
     ]
    }
   ],
   "source": [
    "df.info()"
   ]
  },
  {
   "cell_type": "code",
   "execution_count": 5,
   "id": "98499eaa",
   "metadata": {},
   "outputs": [
    {
     "data": {
      "text/plain": [
       "user_id_1    1000\n",
       "user_id_2    1000\n",
       "group           2\n",
       "is_match        2\n",
       "dtype: int64"
      ]
     },
     "execution_count": 5,
     "metadata": {},
     "output_type": "execute_result"
    }
   ],
   "source": [
    "df.nunique()"
   ]
  },
  {
   "cell_type": "code",
   "execution_count": 6,
   "id": "1e89165e",
   "metadata": {},
   "outputs": [
    {
     "data": {
      "text/plain": [
       "group\n",
       "1    9722\n",
       "0    4792\n",
       "Name: count, dtype: int64"
      ]
     },
     "execution_count": 6,
     "metadata": {},
     "output_type": "execute_result"
    }
   ],
   "source": [
    "df.group.value_counts()"
   ]
  },
  {
   "cell_type": "markdown",
   "id": "40da74dd",
   "metadata": {},
   "source": [
    "group:\n",
    "* 0 - контрольная группа (пользовались приложением со старым алгоритмом);\n",
    "* 1 - экспертиментальная группа (пользовались новым алгоритмом для поиска анкет).\n",
    "\n",
    "*Уникальных пользователей user_id_1 и user_id_2 одинаковое количество. Количество записей в экспериментальной группе больше, чем в контрольной почти в 2 раза. Но user_id_1 и user_id_2 это картина взаимодействия между пользователями. Для более правильной и адекватной оценки нужна картина по каждому пользователю. Нужно произвести агрегацию по каждому пользователю рассчитав кол-во его действий (лайков и дизлайков) и кол-во мэтчей. Дальше посмотрим на уникальное кол-во пользователей в каждой из групп.*\n",
    "\n",
    "* Для лучшего понимания картины посмотрим на пример данных для пользователя под id 716:"
   ]
  },
  {
   "cell_type": "code",
   "execution_count": 7,
   "id": "28557211",
   "metadata": {},
   "outputs": [
    {
     "data": {
      "text/html": [
       "<div>\n",
       "<style scoped>\n",
       "    .dataframe tbody tr th:only-of-type {\n",
       "        vertical-align: middle;\n",
       "    }\n",
       "\n",
       "    .dataframe tbody tr th {\n",
       "        vertical-align: top;\n",
       "    }\n",
       "\n",
       "    .dataframe thead th {\n",
       "        text-align: right;\n",
       "    }\n",
       "</style>\n",
       "<table border=\"1\" class=\"dataframe\">\n",
       "  <thead>\n",
       "    <tr style=\"text-align: right;\">\n",
       "      <th></th>\n",
       "      <th>user_id_1</th>\n",
       "      <th>user_id_2</th>\n",
       "      <th>group</th>\n",
       "      <th>is_match</th>\n",
       "    </tr>\n",
       "  </thead>\n",
       "  <tbody>\n",
       "    <tr>\n",
       "      <th>1</th>\n",
       "      <td>716</td>\n",
       "      <td>353</td>\n",
       "      <td>1</td>\n",
       "      <td>1</td>\n",
       "    </tr>\n",
       "    <tr>\n",
       "      <th>830</th>\n",
       "      <td>716</td>\n",
       "      <td>485</td>\n",
       "      <td>1</td>\n",
       "      <td>1</td>\n",
       "    </tr>\n",
       "    <tr>\n",
       "      <th>2340</th>\n",
       "      <td>716</td>\n",
       "      <td>323</td>\n",
       "      <td>1</td>\n",
       "      <td>0</td>\n",
       "    </tr>\n",
       "    <tr>\n",
       "      <th>3841</th>\n",
       "      <td>716</td>\n",
       "      <td>495</td>\n",
       "      <td>1</td>\n",
       "      <td>0</td>\n",
       "    </tr>\n",
       "    <tr>\n",
       "      <th>4344</th>\n",
       "      <td>716</td>\n",
       "      <td>286</td>\n",
       "      <td>1</td>\n",
       "      <td>0</td>\n",
       "    </tr>\n",
       "    <tr>\n",
       "      <th>4916</th>\n",
       "      <td>716</td>\n",
       "      <td>48</td>\n",
       "      <td>1</td>\n",
       "      <td>0</td>\n",
       "    </tr>\n",
       "    <tr>\n",
       "      <th>6163</th>\n",
       "      <td>716</td>\n",
       "      <td>115</td>\n",
       "      <td>1</td>\n",
       "      <td>1</td>\n",
       "    </tr>\n",
       "    <tr>\n",
       "      <th>6228</th>\n",
       "      <td>716</td>\n",
       "      <td>351</td>\n",
       "      <td>1</td>\n",
       "      <td>0</td>\n",
       "    </tr>\n",
       "    <tr>\n",
       "      <th>6614</th>\n",
       "      <td>716</td>\n",
       "      <td>24</td>\n",
       "      <td>1</td>\n",
       "      <td>1</td>\n",
       "    </tr>\n",
       "    <tr>\n",
       "      <th>7086</th>\n",
       "      <td>716</td>\n",
       "      <td>584</td>\n",
       "      <td>1</td>\n",
       "      <td>0</td>\n",
       "    </tr>\n",
       "    <tr>\n",
       "      <th>7780</th>\n",
       "      <td>716</td>\n",
       "      <td>925</td>\n",
       "      <td>1</td>\n",
       "      <td>0</td>\n",
       "    </tr>\n",
       "    <tr>\n",
       "      <th>8811</th>\n",
       "      <td>716</td>\n",
       "      <td>484</td>\n",
       "      <td>1</td>\n",
       "      <td>0</td>\n",
       "    </tr>\n",
       "    <tr>\n",
       "      <th>8822</th>\n",
       "      <td>716</td>\n",
       "      <td>157</td>\n",
       "      <td>1</td>\n",
       "      <td>1</td>\n",
       "    </tr>\n",
       "    <tr>\n",
       "      <th>10573</th>\n",
       "      <td>716</td>\n",
       "      <td>806</td>\n",
       "      <td>1</td>\n",
       "      <td>1</td>\n",
       "    </tr>\n",
       "    <tr>\n",
       "      <th>10884</th>\n",
       "      <td>716</td>\n",
       "      <td>555</td>\n",
       "      <td>1</td>\n",
       "      <td>1</td>\n",
       "    </tr>\n",
       "    <tr>\n",
       "      <th>11108</th>\n",
       "      <td>716</td>\n",
       "      <td>311</td>\n",
       "      <td>1</td>\n",
       "      <td>1</td>\n",
       "    </tr>\n",
       "    <tr>\n",
       "      <th>11121</th>\n",
       "      <td>716</td>\n",
       "      <td>673</td>\n",
       "      <td>1</td>\n",
       "      <td>0</td>\n",
       "    </tr>\n",
       "    <tr>\n",
       "      <th>11339</th>\n",
       "      <td>716</td>\n",
       "      <td>302</td>\n",
       "      <td>1</td>\n",
       "      <td>0</td>\n",
       "    </tr>\n",
       "    <tr>\n",
       "      <th>13017</th>\n",
       "      <td>716</td>\n",
       "      <td>680</td>\n",
       "      <td>1</td>\n",
       "      <td>1</td>\n",
       "    </tr>\n",
       "    <tr>\n",
       "      <th>13246</th>\n",
       "      <td>716</td>\n",
       "      <td>339</td>\n",
       "      <td>1</td>\n",
       "      <td>0</td>\n",
       "    </tr>\n",
       "  </tbody>\n",
       "</table>\n",
       "</div>"
      ],
      "text/plain": [
       "       user_id_1  user_id_2  group  is_match\n",
       "1            716        353      1         1\n",
       "830          716        485      1         1\n",
       "2340         716        323      1         0\n",
       "3841         716        495      1         0\n",
       "4344         716        286      1         0\n",
       "4916         716         48      1         0\n",
       "6163         716        115      1         1\n",
       "6228         716        351      1         0\n",
       "6614         716         24      1         1\n",
       "7086         716        584      1         0\n",
       "7780         716        925      1         0\n",
       "8811         716        484      1         0\n",
       "8822         716        157      1         1\n",
       "10573        716        806      1         1\n",
       "10884        716        555      1         1\n",
       "11108        716        311      1         1\n",
       "11121        716        673      1         0\n",
       "11339        716        302      1         0\n",
       "13017        716        680      1         1\n",
       "13246        716        339      1         0"
      ]
     },
     "execution_count": 7,
     "metadata": {},
     "output_type": "execute_result"
    }
   ],
   "source": [
    "df.query('user_id_1 == 716')"
   ]
  },
  {
   "cell_type": "code",
   "execution_count": 8,
   "id": "2406ff9b",
   "metadata": {},
   "outputs": [
    {
     "data": {
      "text/html": [
       "<div>\n",
       "<style scoped>\n",
       "    .dataframe tbody tr th:only-of-type {\n",
       "        vertical-align: middle;\n",
       "    }\n",
       "\n",
       "    .dataframe tbody tr th {\n",
       "        vertical-align: top;\n",
       "    }\n",
       "\n",
       "    .dataframe thead th {\n",
       "        text-align: right;\n",
       "    }\n",
       "</style>\n",
       "<table border=\"1\" class=\"dataframe\">\n",
       "  <thead>\n",
       "    <tr style=\"text-align: right;\">\n",
       "      <th></th>\n",
       "      <th>user_id_1</th>\n",
       "      <th>user_id_2</th>\n",
       "      <th>group</th>\n",
       "      <th>is_match</th>\n",
       "    </tr>\n",
       "  </thead>\n",
       "  <tbody>\n",
       "    <tr>\n",
       "      <th>320</th>\n",
       "      <td>724</td>\n",
       "      <td>716</td>\n",
       "      <td>1</td>\n",
       "      <td>0</td>\n",
       "    </tr>\n",
       "    <tr>\n",
       "      <th>682</th>\n",
       "      <td>617</td>\n",
       "      <td>716</td>\n",
       "      <td>1</td>\n",
       "      <td>1</td>\n",
       "    </tr>\n",
       "    <tr>\n",
       "      <th>1021</th>\n",
       "      <td>289</td>\n",
       "      <td>716</td>\n",
       "      <td>1</td>\n",
       "      <td>0</td>\n",
       "    </tr>\n",
       "    <tr>\n",
       "      <th>2091</th>\n",
       "      <td>804</td>\n",
       "      <td>716</td>\n",
       "      <td>1</td>\n",
       "      <td>0</td>\n",
       "    </tr>\n",
       "    <tr>\n",
       "      <th>2402</th>\n",
       "      <td>512</td>\n",
       "      <td>716</td>\n",
       "      <td>1</td>\n",
       "      <td>0</td>\n",
       "    </tr>\n",
       "    <tr>\n",
       "      <th>3158</th>\n",
       "      <td>272</td>\n",
       "      <td>716</td>\n",
       "      <td>1</td>\n",
       "      <td>0</td>\n",
       "    </tr>\n",
       "    <tr>\n",
       "      <th>3673</th>\n",
       "      <td>514</td>\n",
       "      <td>716</td>\n",
       "      <td>1</td>\n",
       "      <td>0</td>\n",
       "    </tr>\n",
       "    <tr>\n",
       "      <th>3843</th>\n",
       "      <td>404</td>\n",
       "      <td>716</td>\n",
       "      <td>1</td>\n",
       "      <td>0</td>\n",
       "    </tr>\n",
       "    <tr>\n",
       "      <th>4169</th>\n",
       "      <td>310</td>\n",
       "      <td>716</td>\n",
       "      <td>1</td>\n",
       "      <td>1</td>\n",
       "    </tr>\n",
       "    <tr>\n",
       "      <th>4348</th>\n",
       "      <td>139</td>\n",
       "      <td>716</td>\n",
       "      <td>1</td>\n",
       "      <td>0</td>\n",
       "    </tr>\n",
       "    <tr>\n",
       "      <th>5552</th>\n",
       "      <td>894</td>\n",
       "      <td>716</td>\n",
       "      <td>1</td>\n",
       "      <td>0</td>\n",
       "    </tr>\n",
       "    <tr>\n",
       "      <th>6041</th>\n",
       "      <td>230</td>\n",
       "      <td>716</td>\n",
       "      <td>1</td>\n",
       "      <td>0</td>\n",
       "    </tr>\n",
       "    <tr>\n",
       "      <th>6134</th>\n",
       "      <td>9</td>\n",
       "      <td>716</td>\n",
       "      <td>1</td>\n",
       "      <td>0</td>\n",
       "    </tr>\n",
       "    <tr>\n",
       "      <th>6472</th>\n",
       "      <td>647</td>\n",
       "      <td>716</td>\n",
       "      <td>1</td>\n",
       "      <td>1</td>\n",
       "    </tr>\n",
       "    <tr>\n",
       "      <th>7062</th>\n",
       "      <td>816</td>\n",
       "      <td>716</td>\n",
       "      <td>1</td>\n",
       "      <td>1</td>\n",
       "    </tr>\n",
       "    <tr>\n",
       "      <th>7481</th>\n",
       "      <td>177</td>\n",
       "      <td>716</td>\n",
       "      <td>1</td>\n",
       "      <td>1</td>\n",
       "    </tr>\n",
       "    <tr>\n",
       "      <th>8108</th>\n",
       "      <td>307</td>\n",
       "      <td>716</td>\n",
       "      <td>1</td>\n",
       "      <td>0</td>\n",
       "    </tr>\n",
       "    <tr>\n",
       "      <th>8109</th>\n",
       "      <td>167</td>\n",
       "      <td>716</td>\n",
       "      <td>1</td>\n",
       "      <td>0</td>\n",
       "    </tr>\n",
       "    <tr>\n",
       "      <th>8295</th>\n",
       "      <td>18</td>\n",
       "      <td>716</td>\n",
       "      <td>1</td>\n",
       "      <td>0</td>\n",
       "    </tr>\n",
       "    <tr>\n",
       "      <th>9315</th>\n",
       "      <td>774</td>\n",
       "      <td>716</td>\n",
       "      <td>1</td>\n",
       "      <td>1</td>\n",
       "    </tr>\n",
       "    <tr>\n",
       "      <th>9516</th>\n",
       "      <td>169</td>\n",
       "      <td>716</td>\n",
       "      <td>1</td>\n",
       "      <td>0</td>\n",
       "    </tr>\n",
       "    <tr>\n",
       "      <th>9694</th>\n",
       "      <td>284</td>\n",
       "      <td>716</td>\n",
       "      <td>1</td>\n",
       "      <td>0</td>\n",
       "    </tr>\n",
       "    <tr>\n",
       "      <th>9823</th>\n",
       "      <td>501</td>\n",
       "      <td>716</td>\n",
       "      <td>1</td>\n",
       "      <td>0</td>\n",
       "    </tr>\n",
       "    <tr>\n",
       "      <th>10185</th>\n",
       "      <td>488</td>\n",
       "      <td>716</td>\n",
       "      <td>1</td>\n",
       "      <td>0</td>\n",
       "    </tr>\n",
       "    <tr>\n",
       "      <th>10426</th>\n",
       "      <td>704</td>\n",
       "      <td>716</td>\n",
       "      <td>1</td>\n",
       "      <td>0</td>\n",
       "    </tr>\n",
       "    <tr>\n",
       "      <th>12351</th>\n",
       "      <td>460</td>\n",
       "      <td>716</td>\n",
       "      <td>1</td>\n",
       "      <td>0</td>\n",
       "    </tr>\n",
       "    <tr>\n",
       "      <th>12353</th>\n",
       "      <td>48</td>\n",
       "      <td>716</td>\n",
       "      <td>1</td>\n",
       "      <td>0</td>\n",
       "    </tr>\n",
       "    <tr>\n",
       "      <th>12428</th>\n",
       "      <td>559</td>\n",
       "      <td>716</td>\n",
       "      <td>1</td>\n",
       "      <td>1</td>\n",
       "    </tr>\n",
       "    <tr>\n",
       "      <th>12455</th>\n",
       "      <td>555</td>\n",
       "      <td>716</td>\n",
       "      <td>1</td>\n",
       "      <td>0</td>\n",
       "    </tr>\n",
       "    <tr>\n",
       "      <th>12571</th>\n",
       "      <td>827</td>\n",
       "      <td>716</td>\n",
       "      <td>1</td>\n",
       "      <td>0</td>\n",
       "    </tr>\n",
       "    <tr>\n",
       "      <th>13203</th>\n",
       "      <td>977</td>\n",
       "      <td>716</td>\n",
       "      <td>1</td>\n",
       "      <td>0</td>\n",
       "    </tr>\n",
       "    <tr>\n",
       "      <th>13666</th>\n",
       "      <td>138</td>\n",
       "      <td>716</td>\n",
       "      <td>1</td>\n",
       "      <td>1</td>\n",
       "    </tr>\n",
       "    <tr>\n",
       "      <th>13692</th>\n",
       "      <td>53</td>\n",
       "      <td>716</td>\n",
       "      <td>1</td>\n",
       "      <td>0</td>\n",
       "    </tr>\n",
       "    <tr>\n",
       "      <th>13945</th>\n",
       "      <td>454</td>\n",
       "      <td>716</td>\n",
       "      <td>1</td>\n",
       "      <td>1</td>\n",
       "    </tr>\n",
       "  </tbody>\n",
       "</table>\n",
       "</div>"
      ],
      "text/plain": [
       "       user_id_1  user_id_2  group  is_match\n",
       "320          724        716      1         0\n",
       "682          617        716      1         1\n",
       "1021         289        716      1         0\n",
       "2091         804        716      1         0\n",
       "2402         512        716      1         0\n",
       "3158         272        716      1         0\n",
       "3673         514        716      1         0\n",
       "3843         404        716      1         0\n",
       "4169         310        716      1         1\n",
       "4348         139        716      1         0\n",
       "5552         894        716      1         0\n",
       "6041         230        716      1         0\n",
       "6134           9        716      1         0\n",
       "6472         647        716      1         1\n",
       "7062         816        716      1         1\n",
       "7481         177        716      1         1\n",
       "8108         307        716      1         0\n",
       "8109         167        716      1         0\n",
       "8295          18        716      1         0\n",
       "9315         774        716      1         1\n",
       "9516         169        716      1         0\n",
       "9694         284        716      1         0\n",
       "9823         501        716      1         0\n",
       "10185        488        716      1         0\n",
       "10426        704        716      1         0\n",
       "12351        460        716      1         0\n",
       "12353         48        716      1         0\n",
       "12428        559        716      1         1\n",
       "12455        555        716      1         0\n",
       "12571        827        716      1         0\n",
       "13203        977        716      1         0\n",
       "13666        138        716      1         1\n",
       "13692         53        716      1         0\n",
       "13945        454        716      1         1"
      ]
     },
     "execution_count": 8,
     "metadata": {},
     "output_type": "execute_result"
    }
   ],
   "source": [
    "df.query('user_id_2 == 716')"
   ]
  },
  {
   "cell_type": "markdown",
   "id": "655e0d7a",
   "metadata": {},
   "source": [
    "*Получается, что один пользователь может как лайкать/дизлайкать разных пользователей, так и быть \"выбранным\" (его тоже могут лайкать/дизлайкать). Предполагаю, что достаточно сгруппировать данные по user_id_1, то есть учитывать односторонний выбор, т.к. двусторонний выбор исказит наши данные, потому что один пользователь будет учтен дважды.*\n",
    "* Также важно проверить пересекаются ли наши группы:"
   ]
  },
  {
   "cell_type": "code",
   "execution_count": 9,
   "id": "2d22eb7f",
   "metadata": {},
   "outputs": [
    {
     "data": {
      "text/plain": [
       "0"
      ]
     },
     "execution_count": 9,
     "metadata": {},
     "output_type": "execute_result"
    }
   ],
   "source": [
    "len(\n",
    "    set(df.query('group == 0').user_id_1).intersection(\n",
    "    set(df.query('group == 1').user_id_1))\n",
    "   )"
   ]
  },
  {
   "cell_type": "code",
   "execution_count": 10,
   "id": "ac33637f",
   "metadata": {},
   "outputs": [
    {
     "data": {
      "text/plain": [
       "0"
      ]
     },
     "execution_count": 10,
     "metadata": {},
     "output_type": "execute_result"
    }
   ],
   "source": [
    "len(\n",
    "    set(df.query('group == 0').user_id_2).intersection(\n",
    "    set(df.query('group == 1').user_id_2))\n",
    "   )"
   ]
  },
  {
   "cell_type": "code",
   "execution_count": 11,
   "id": "d75904c3",
   "metadata": {},
   "outputs": [
    {
     "data": {
      "text/plain": [
       "0"
      ]
     },
     "execution_count": 11,
     "metadata": {},
     "output_type": "execute_result"
    }
   ],
   "source": [
    "len(\n",
    "    set(df.query('group == 0').user_id_1).intersection(\n",
    "    set(df.query('group == 1').user_id_2))\n",
    "   )"
   ]
  },
  {
   "cell_type": "code",
   "execution_count": 12,
   "id": "21f0594f",
   "metadata": {},
   "outputs": [
    {
     "data": {
      "text/plain": [
       "501"
      ]
     },
     "execution_count": 12,
     "metadata": {},
     "output_type": "execute_result"
    }
   ],
   "source": [
    "len(\n",
    "    set(df.query('group == 0').user_id_1).intersection(\n",
    "    set(df.query('group == 0').user_id_2))\n",
    "   )"
   ]
  },
  {
   "cell_type": "code",
   "execution_count": 13,
   "id": "7e84436f",
   "metadata": {},
   "outputs": [
    {
     "data": {
      "text/plain": [
       "499"
      ]
     },
     "execution_count": 13,
     "metadata": {},
     "output_type": "execute_result"
    }
   ],
   "source": [
    "len(\n",
    "    set(df.query('group == 1').user_id_1).intersection(\n",
    "    set(df.query('group == 1').user_id_2))\n",
    "   )"
   ]
  },
  {
   "cell_type": "markdown",
   "id": "6e930070",
   "metadata": {},
   "source": [
    "<b>Получается, пользователи между группами не пересекаются. Отсюда вывод: <u><font color='green'>наши выборки не связаны. </u></font></b>\n",
    "\n",
    "* Произведем агрегацию данных:"
   ]
  },
  {
   "cell_type": "code",
   "execution_count": 14,
   "id": "fc7b61e6",
   "metadata": {},
   "outputs": [
    {
     "data": {
      "text/html": [
       "<div>\n",
       "<style scoped>\n",
       "    .dataframe tbody tr th:only-of-type {\n",
       "        vertical-align: middle;\n",
       "    }\n",
       "\n",
       "    .dataframe tbody tr th {\n",
       "        vertical-align: top;\n",
       "    }\n",
       "\n",
       "    .dataframe thead th {\n",
       "        text-align: right;\n",
       "    }\n",
       "</style>\n",
       "<table border=\"1\" class=\"dataframe\">\n",
       "  <thead>\n",
       "    <tr style=\"text-align: right;\">\n",
       "      <th></th>\n",
       "      <th>user_id</th>\n",
       "      <th>group</th>\n",
       "      <th>actions</th>\n",
       "      <th>matchs_count</th>\n",
       "      <th>matchs_share</th>\n",
       "    </tr>\n",
       "  </thead>\n",
       "  <tbody>\n",
       "    <tr>\n",
       "      <th>0</th>\n",
       "      <td>1</td>\n",
       "      <td>1</td>\n",
       "      <td>24</td>\n",
       "      <td>11</td>\n",
       "      <td>0.46</td>\n",
       "    </tr>\n",
       "    <tr>\n",
       "      <th>1</th>\n",
       "      <td>2</td>\n",
       "      <td>1</td>\n",
       "      <td>16</td>\n",
       "      <td>7</td>\n",
       "      <td>0.44</td>\n",
       "    </tr>\n",
       "    <tr>\n",
       "      <th>2</th>\n",
       "      <td>3</td>\n",
       "      <td>1</td>\n",
       "      <td>16</td>\n",
       "      <td>5</td>\n",
       "      <td>0.31</td>\n",
       "    </tr>\n",
       "    <tr>\n",
       "      <th>3</th>\n",
       "      <td>4</td>\n",
       "      <td>0</td>\n",
       "      <td>9</td>\n",
       "      <td>2</td>\n",
       "      <td>0.22</td>\n",
       "    </tr>\n",
       "    <tr>\n",
       "      <th>4</th>\n",
       "      <td>5</td>\n",
       "      <td>1</td>\n",
       "      <td>22</td>\n",
       "      <td>13</td>\n",
       "      <td>0.59</td>\n",
       "    </tr>\n",
       "    <tr>\n",
       "      <th>...</th>\n",
       "      <td>...</td>\n",
       "      <td>...</td>\n",
       "      <td>...</td>\n",
       "      <td>...</td>\n",
       "      <td>...</td>\n",
       "    </tr>\n",
       "    <tr>\n",
       "      <th>995</th>\n",
       "      <td>996</td>\n",
       "      <td>0</td>\n",
       "      <td>8</td>\n",
       "      <td>1</td>\n",
       "      <td>0.12</td>\n",
       "    </tr>\n",
       "    <tr>\n",
       "      <th>996</th>\n",
       "      <td>997</td>\n",
       "      <td>0</td>\n",
       "      <td>12</td>\n",
       "      <td>1</td>\n",
       "      <td>0.08</td>\n",
       "    </tr>\n",
       "    <tr>\n",
       "      <th>997</th>\n",
       "      <td>998</td>\n",
       "      <td>1</td>\n",
       "      <td>18</td>\n",
       "      <td>10</td>\n",
       "      <td>0.56</td>\n",
       "    </tr>\n",
       "    <tr>\n",
       "      <th>998</th>\n",
       "      <td>999</td>\n",
       "      <td>0</td>\n",
       "      <td>7</td>\n",
       "      <td>2</td>\n",
       "      <td>0.29</td>\n",
       "    </tr>\n",
       "    <tr>\n",
       "      <th>999</th>\n",
       "      <td>1000</td>\n",
       "      <td>1</td>\n",
       "      <td>23</td>\n",
       "      <td>12</td>\n",
       "      <td>0.52</td>\n",
       "    </tr>\n",
       "  </tbody>\n",
       "</table>\n",
       "<p>1000 rows × 5 columns</p>\n",
       "</div>"
      ],
      "text/plain": [
       "     user_id  group  actions  matchs_count  matchs_share\n",
       "0          1      1       24            11          0.46\n",
       "1          2      1       16             7          0.44\n",
       "2          3      1       16             5          0.31\n",
       "3          4      0        9             2          0.22\n",
       "4          5      1       22            13          0.59\n",
       "..       ...    ...      ...           ...           ...\n",
       "995      996      0        8             1          0.12\n",
       "996      997      0       12             1          0.08\n",
       "997      998      1       18            10          0.56\n",
       "998      999      0        7             2          0.29\n",
       "999     1000      1       23            12          0.52\n",
       "\n",
       "[1000 rows x 5 columns]"
      ]
     },
     "execution_count": 14,
     "metadata": {},
     "output_type": "execute_result"
    }
   ],
   "source": [
    "aggregate = (\n",
    "            df.groupby(['user_id_1', 'group'], as_index=False) \n",
    "              .agg({'user_id_2': 'count',  # посчитаем кол-во действий пользователя, т.е. скольким другим пользователям он поставил лайк/дизлайк \n",
    "                    'is_match': 'sum'})   # определим сумму мэтчей у пользователя, т.е. сколько у него случилось взаимных лайков\n",
    "              .rename(columns={'user_id_1': 'user_id',\n",
    "                               'user_id_2': 'actions',\n",
    "                               'is_match': 'matchs_count'})\n",
    "            )\n",
    "\n",
    "aggregate['matchs_share'] = round(aggregate['matchs_count'] / aggregate['actions'], 2) # посчитаем долю мэтчей среди действий пользователя, это будет нашей первой метрикой\n",
    "aggregate"
   ]
  },
  {
   "cell_type": "code",
   "execution_count": 15,
   "id": "1c34f6b0",
   "metadata": {},
   "outputs": [
    {
     "data": {
      "text/plain": [
       "group\n",
       "0    501\n",
       "1    499\n",
       "Name: count, dtype: int64"
      ]
     },
     "execution_count": 15,
     "metadata": {},
     "output_type": "execute_result"
    }
   ],
   "source": [
    "aggregate.group.value_counts()"
   ]
  },
  {
   "cell_type": "markdown",
   "id": "adf6e136",
   "metadata": {},
   "source": [
    "<b>Наши выборки практически равны по размеру.\n",
    "\n",
    "Теперь данные готовы к анализу результатов эксперимента по внедрению нового алгоритма для поиска анкет.\n",
    "\n",
    "Опеределим две метрики, которые будут нас интересовать и сравнение которых позволят нам сделать вывод об эффективности нового алгоритма:</b>\n",
    "\n",
    "1. <b><font color='red'>matchs_share</font></b> - процент мэтчей среди всех лайков/дизлайков у пользователя. Если разработчики утверждают, что новый алгоритм подразумевает улучшение поиска наиболее подходящих анкет, то эта метрика должна вырасти.\n",
    "\n",
    "2. <b><font color='red'>actions</font></b> - количество действий пользователя. Мы заинтересованы, чтобы пользователи больше времени проводили в нашем приложении, соответственно, совершали больше действий. Поэтому важно понять, с появлением нового алгоритма, стали ли пользователи совершать больше действий.\n",
    "\n",
    "* Начнем анализировать результаты эксперимента и делать выводы с метрики matchs_share."
   ]
  },
  {
   "cell_type": "markdown",
   "id": "8c7185fb",
   "metadata": {},
   "source": [
    "## 2. Сравнение доли мэтчей между контрольной и тестовой группами\n",
    "\n",
    "* Визуализируем значения matchs_share между группами: "
   ]
  },
  {
   "cell_type": "code",
   "execution_count": 16,
   "id": "4bb67c57",
   "metadata": {},
   "outputs": [
    {
     "data": {
      "text/plain": [
       "<Axes: xlabel='group', ylabel='matchs_share'>"
      ]
     },
     "execution_count": 16,
     "metadata": {},
     "output_type": "execute_result"
    },
    {
     "data": {
      "image/png": "[encoded data removed]",
      "text/plain": [
       "<Figure size 432x288 with 1 Axes>"
      ]
     },
     "metadata": {
      "needs_background": "light"
     },
     "output_type": "display_data"
    }
   ],
   "source": [
    "sns.boxplot(data=aggregate, x='group', y = 'matchs_share')"
   ]
  },
  {
   "cell_type": "code",
   "execution_count": 17,
   "id": "e21f042e",
   "metadata": {},
   "outputs": [
    {
     "data": {
      "text/plain": [
       "count    501.000000\n",
       "mean       0.193593\n",
       "std        0.134368\n",
       "min        0.000000\n",
       "25%        0.100000\n",
       "50%        0.180000\n",
       "75%        0.270000\n",
       "max        0.670000\n",
       "Name: matchs_share, dtype: float64"
      ]
     },
     "execution_count": 17,
     "metadata": {},
     "output_type": "execute_result"
    }
   ],
   "source": [
    "aggregate.query('group == 0').matchs_share.describe()"
   ]
  },
  {
   "cell_type": "code",
   "execution_count": 18,
   "id": "efef491c",
   "metadata": {},
   "outputs": [
    {
     "data": {
      "text/plain": [
       "count    499.000000\n",
       "mean       0.402405\n",
       "std        0.114209\n",
       "min        0.000000\n",
       "25%        0.330000\n",
       "50%        0.400000\n",
       "75%        0.480000\n",
       "max        0.720000\n",
       "Name: matchs_share, dtype: float64"
      ]
     },
     "execution_count": 18,
     "metadata": {},
     "output_type": "execute_result"
    }
   ],
   "source": [
    "aggregate.query('group == 1').matchs_share.describe()"
   ]
  },
  {
   "cell_type": "markdown",
   "id": "051a43fb",
   "metadata": {},
   "source": [
    "Исходя из полученных данных видно:\n",
    "* разница между 25, 50 и 75 квантилями в обеих группах равномерна;\n",
    "* стандартное отклонение в контрольной группе больше, чем в эспериментальной;\n",
    "* максимальное значение matchs_share в экспериментальной группе немного выше, чем в контрольной;\n",
    "* среднее значение matchs_share у экспериментальной группы больше, чем у контрольной практически в 2 раза.\n",
    "\n",
    "Давайте попробуем понять насколько различия в **matchs_share** статистически значимы.\n",
    "\n",
    "* Для начала проверим наши распределения на нормальность:"
   ]
  },
  {
   "cell_type": "code",
   "execution_count": 19,
   "id": "8476428c",
   "metadata": {},
   "outputs": [
    {
     "data": {
      "text/plain": [
       "Text(0.5, 1.0, 'experiment (group = 1)')"
      ]
     },
     "execution_count": 19,
     "metadata": {},
     "output_type": "execute_result"
    },
    {
     "data": {
      "image/png": "[encoded data removed]",
      "text/plain": [
       "<Figure size 1440x720 with 2 Axes>"
      ]
     },
     "metadata": {
      "needs_background": "light"
     },
     "output_type": "display_data"
    }
   ],
   "source": [
    "fig, axs = plt.subplots(ncols=2)\n",
    "fig.set_figwidth(20)\n",
    "fig.set_figheight(10)\n",
    "\n",
    "sns.histplot(data=aggregate.query('group == 0'), x='matchs_share', kde=True, ax=axs[0])\n",
    "axs[0].set_title('control (group = 0)')\n",
    "sns.histplot(data=aggregate.query('group == 1'), x='matchs_share', kde=True, ax=axs[1])\n",
    "axs[1].set_title('experiment (group = 1)')"
   ]
  },
  {
   "cell_type": "markdown",
   "id": "ce3658cc",
   "metadata": {},
   "source": [
    "*Визуально, в экспериментальной группе распределение кажется нормальным. В контрольной группе распределение далеко от нормального.* \n",
    "* Проведем тест на нормальность с помощью библиотек **pingouin** и **scipy**:"
   ]
  },
  {
   "cell_type": "code",
   "execution_count": 20,
   "id": "420d59b0",
   "metadata": {},
   "outputs": [
    {
     "data": {
      "text/plain": [
       "Text(0.5, 1.0, 'experiment (group = 1)')"
      ]
     },
     "execution_count": 20,
     "metadata": {},
     "output_type": "execute_result"
    },
    {
     "data": {
      "image/png": "[encoded data removed]",
      "text/plain": [
       "<Figure size 1440x720 with 2 Axes>"
      ]
     },
     "metadata": {
      "needs_background": "light"
     },
     "output_type": "display_data"
    }
   ],
   "source": [
    "fig, axs = plt.subplots(ncols=2)\n",
    "fig.set_figwidth(20)\n",
    "fig.set_figheight(10)\n",
    "\n",
    "pg.qqplot(x=aggregate.query('group == 0').matchs_share, ax=axs[0])\n",
    "axs[0].set_title('control (group = 0)')\n",
    "pg.qqplot(x=aggregate.query('group == 1').matchs_share, ax=axs[1])\n",
    "axs[1].set_title('experiment (group = 1)')"
   ]
  },
  {
   "cell_type": "code",
   "execution_count": 21,
   "id": "3939e24c",
   "metadata": {},
   "outputs": [
    {
     "data": {
      "text/html": [
       "<div>\n",
       "<style scoped>\n",
       "    .dataframe tbody tr th:only-of-type {\n",
       "        vertical-align: middle;\n",
       "    }\n",
       "\n",
       "    .dataframe tbody tr th {\n",
       "        vertical-align: top;\n",
       "    }\n",
       "\n",
       "    .dataframe thead th {\n",
       "        text-align: right;\n",
       "    }\n",
       "</style>\n",
       "<table border=\"1\" class=\"dataframe\">\n",
       "  <thead>\n",
       "    <tr style=\"text-align: right;\">\n",
       "      <th></th>\n",
       "      <th>W</th>\n",
       "      <th>pval</th>\n",
       "      <th>normal</th>\n",
       "    </tr>\n",
       "    <tr>\n",
       "      <th>group</th>\n",
       "      <th></th>\n",
       "      <th></th>\n",
       "      <th></th>\n",
       "    </tr>\n",
       "  </thead>\n",
       "  <tbody>\n",
       "    <tr>\n",
       "      <th>1</th>\n",
       "      <td>0.995512</td>\n",
       "      <td>1.621243e-01</td>\n",
       "      <td>True</td>\n",
       "    </tr>\n",
       "    <tr>\n",
       "      <th>0</th>\n",
       "      <td>0.956622</td>\n",
       "      <td>5.654006e-11</td>\n",
       "      <td>False</td>\n",
       "    </tr>\n",
       "  </tbody>\n",
       "</table>\n",
       "</div>"
      ],
      "text/plain": [
       "              W          pval  normal\n",
       "group                                \n",
       "1      0.995512  1.621243e-01    True\n",
       "0      0.956622  5.654006e-11   False"
      ]
     },
     "execution_count": 21,
     "metadata": {},
     "output_type": "execute_result"
    }
   ],
   "source": [
    "pg.normality(data=aggregate, dv='matchs_share', group='group')"
   ]
  },
  {
   "cell_type": "code",
   "execution_count": 22,
   "id": "32f2fd63",
   "metadata": {},
   "outputs": [
    {
     "data": {
      "text/plain": [
       "NormaltestResult(statistic=25.012374661106712, pvalue=3.703666323992913e-06)"
      ]
     },
     "execution_count": 22,
     "metadata": {},
     "output_type": "execute_result"
    }
   ],
   "source": [
    "ss.normaltest(aggregate.query('group == 0').matchs_share)"
   ]
  },
  {
   "cell_type": "code",
   "execution_count": 23,
   "id": "0fa11335",
   "metadata": {},
   "outputs": [
    {
     "data": {
      "text/plain": [
       "NormaltestResult(statistic=0.2799194978631532, pvalue=0.8693932287008774)"
      ]
     },
     "execution_count": 23,
     "metadata": {},
     "output_type": "execute_result"
    }
   ],
   "source": [
    "ss.normaltest(aggregate.query('group == 1').matchs_share)"
   ]
  },
  {
   "cell_type": "markdown",
   "id": "a8346abe",
   "metadata": {},
   "source": [
    "<i>Исходя из вышеприведенных результатов с высокой долей уверенности можно сделать вывод, что распределение в контрольной группе не имеет нормальный вид, а данные в экспериментальной группе имеют нормальное распределение.\n",
    "\n",
    "Итак, что мы хотим? Мы хотим понять, есть ли статистически значимые различия между двумя группами. Будем сравнивать средние значения доли мэтчей. Можем ли мы применить т-критерий Стьюдента для наших выборок, учитывая, что одна из них не имеет нормальное распределение? \n",
    "\n",
    "Нормальность данных критична только для очень маленьких выборок (примерный ориентир – меньше 30). У нас выборки по 500 записей в каждой, поэтому т-тест будет работать корректно. Тест должен быть параметрическим, т.к. все параметры выборки нам известны.\n",
    "\n",
    "Плюс мы знаем, что стандартные отклонения наших выборок не равны. Поэтому для сравнения средних значений доли мэтчей между двумя группами будем использовать <u>т-критерий Уэлча</u> для наших несвязанных выборок, где:</i>\n",
    "* <b><font color='red'> $H_0$ (нулевая гипотеза) говорит, о том что средние значения не отличаются;</font></b>\n",
    "\n",
    "* <b><font color='green'> $H_1$ (альтернативная гипотеза) говорит, о том что средние значения в выборках отличаются.</font></b>\n",
    "\n",
    "Если рассчитанное p-value будет меньше 0.05, можно будет отвергнуть нулевую гипотезу.\n",
    "\n",
    "* Произведем расчеты т-теста разными библиотеками: "
   ]
  },
  {
   "cell_type": "code",
   "execution_count": 24,
   "id": "12f810bb",
   "metadata": {},
   "outputs": [
    {
     "data": {
      "text/html": [
       "<div>\n",
       "<style scoped>\n",
       "    .dataframe tbody tr th:only-of-type {\n",
       "        vertical-align: middle;\n",
       "    }\n",
       "\n",
       "    .dataframe tbody tr th {\n",
       "        vertical-align: top;\n",
       "    }\n",
       "\n",
       "    .dataframe thead th {\n",
       "        text-align: right;\n",
       "    }\n",
       "</style>\n",
       "<table border=\"1\" class=\"dataframe\">\n",
       "  <thead>\n",
       "    <tr style=\"text-align: right;\">\n",
       "      <th></th>\n",
       "      <th>T</th>\n",
       "      <th>dof</th>\n",
       "      <th>alternative</th>\n",
       "      <th>p-val</th>\n",
       "      <th>CI95%</th>\n",
       "      <th>cohen-d</th>\n",
       "      <th>BF10</th>\n",
       "      <th>power</th>\n",
       "    </tr>\n",
       "  </thead>\n",
       "  <tbody>\n",
       "    <tr>\n",
       "      <th>T-test</th>\n",
       "      <td>-26.481432</td>\n",
       "      <td>973.937119</td>\n",
       "      <td>two-sided</td>\n",
       "      <td>7.890669e-117</td>\n",
       "      <td>[-0.22, -0.19]</td>\n",
       "      <td>1.674296</td>\n",
       "      <td>3.052e+113</td>\n",
       "      <td>1.0</td>\n",
       "    </tr>\n",
       "  </tbody>\n",
       "</table>\n",
       "</div>"
      ],
      "text/plain": [
       "                T         dof alternative          p-val           CI95%  \\\n",
       "T-test -26.481432  973.937119   two-sided  7.890669e-117  [-0.22, -0.19]   \n",
       "\n",
       "         cohen-d        BF10  power  \n",
       "T-test  1.674296  3.052e+113    1.0  "
      ]
     },
     "execution_count": 24,
     "metadata": {},
     "output_type": "execute_result"
    }
   ],
   "source": [
    "pg.ttest(aggregate.query('group == 0').matchs_share, \n",
    "         aggregate.query('group == 1').matchs_share,\n",
    "         correction=True)"
   ]
  },
  {
   "cell_type": "code",
   "execution_count": 25,
   "id": "6f0e4737",
   "metadata": {},
   "outputs": [
    {
     "data": {
      "text/plain": [
       "Ttest_indResult(statistic=-26.481431782585016, pvalue=7.890669157070396e-117)"
      ]
     },
     "execution_count": 25,
     "metadata": {},
     "output_type": "execute_result"
    }
   ],
   "source": [
    "ss.ttest_ind(aggregate.query('group == 0').matchs_share, \n",
    "             aggregate.query('group == 1').matchs_share,\n",
    "             equal_var=False)"
   ]
  },
  {
   "cell_type": "markdown",
   "id": "7e852e3b",
   "metadata": {},
   "source": [
    "**Мы получили в качестве p-value очень маленькое число - со степенью \"-(минус) 117\". Это говорит нам, что мы можем отвергнуть нулевую гипотезу и сделать вывод, что <font color='green'>средние между двумя группами статистически различаются.</font>** \n",
    "\n",
    "**Отрицательное значение переменной т-статистики говорит нам о том, что значения средней доли мэтчей в экспериментальной группе выше, чем в контрольной. То есть мы статистически подтвердили полученные выше данные.**"
   ]
  },
  {
   "cell_type": "markdown",
   "id": "a244f960",
   "metadata": {},
   "source": [
    "\n",
    "\n",
    "## 3. Сравнение среднего количества действий (лайков/дизлайков) между 2 группами\n",
    "\n",
    "* Визуализируем значения actions между группами "
   ]
  },
  {
   "cell_type": "code",
   "execution_count": 26,
   "id": "5c04bddd",
   "metadata": {},
   "outputs": [
    {
     "data": {
      "text/plain": [
       "<Axes: xlabel='group', ylabel='actions'>"
      ]
     },
     "execution_count": 26,
     "metadata": {},
     "output_type": "execute_result"
    },
    {
     "data": {
      "image/png": "[encoded data removed]",
      "text/plain": [
       "<Figure size 432x288 with 1 Axes>"
      ]
     },
     "metadata": {
      "needs_background": "light"
     },
     "output_type": "display_data"
    }
   ],
   "source": [
    "sns.boxplot(data=aggregate, x='group', y = 'actions')"
   ]
  },
  {
   "cell_type": "code",
   "execution_count": 27,
   "id": "07ae2e16",
   "metadata": {},
   "outputs": [
    {
     "data": {
      "text/plain": [
       "count    501.000000\n",
       "mean       9.564870\n",
       "std        3.056515\n",
       "min        1.000000\n",
       "25%        8.000000\n",
       "50%        9.000000\n",
       "75%       12.000000\n",
       "max       20.000000\n",
       "Name: actions, dtype: float64"
      ]
     },
     "execution_count": 27,
     "metadata": {},
     "output_type": "execute_result"
    }
   ],
   "source": [
    "aggregate.query('group == 0').actions.describe()"
   ]
  },
  {
   "cell_type": "code",
   "execution_count": 28,
   "id": "11f662b0",
   "metadata": {},
   "outputs": [
    {
     "data": {
      "text/plain": [
       "count    499.000000\n",
       "mean      19.482966\n",
       "std        2.991489\n",
       "min       11.000000\n",
       "25%       18.000000\n",
       "50%       20.000000\n",
       "75%       22.000000\n",
       "max       29.000000\n",
       "Name: actions, dtype: float64"
      ]
     },
     "execution_count": 28,
     "metadata": {},
     "output_type": "execute_result"
    }
   ],
   "source": [
    "aggregate.query('group == 1').actions.describe()"
   ]
  },
  {
   "cell_type": "markdown",
   "id": "2519d3b1",
   "metadata": {},
   "source": [
    "Исходя из полученных данных видно:\n",
    "* разница между 25, 50 и 75 квантилями равномерна только в экспериментальной группе;\n",
    "* стандартное отклонение в обеих группах примерно одинаково;\n",
    "* минимальное значение actions в экспериментальной группе гораздо выше, чем в контрольной;\n",
    "* среднее значение actions у экспериментальной группы больше, чем у контрольной практически в 2 раза. \n",
    "\n",
    "Давайте попробуем понять насколько различия в средних значениях **actions** статистически значимы.\n",
    "\n",
    "* Для начала проверим наши распределения на нормальность:"
   ]
  },
  {
   "cell_type": "code",
   "execution_count": 29,
   "id": "26fb11db",
   "metadata": {},
   "outputs": [
    {
     "data": {
      "text/plain": [
       "Text(0.5, 1.0, 'experiment (group = 1)')"
      ]
     },
     "execution_count": 29,
     "metadata": {},
     "output_type": "execute_result"
    },
    {
     "data": {
      "image/png": "[encoded data removed]",
      "text/plain": [
       "<Figure size 1440x720 with 2 Axes>"
      ]
     },
     "metadata": {
      "needs_background": "light"
     },
     "output_type": "display_data"
    }
   ],
   "source": [
    "fig, axs = plt.subplots(ncols=2)\n",
    "fig.set_figwidth(20)\n",
    "fig.set_figheight(10)\n",
    "\n",
    "sns.histplot(data=aggregate.query('group == 0'), x='actions', kde=True, ax=axs[0])\n",
    "axs[0].set_title('control (group = 0)')\n",
    "sns.histplot(data=aggregate.query('group == 1'), x='actions', kde=True, ax=axs[1])\n",
    "axs[1].set_title('experiment (group = 1)')"
   ]
  },
  {
   "cell_type": "markdown",
   "id": "765dc4ba",
   "metadata": {},
   "source": [
    "*Визуально, в обеих группах распределения кажутся нормальными. Проведем тест на нормальность с помощью библиотек **pingouin** и **scipy**:*"
   ]
  },
  {
   "cell_type": "code",
   "execution_count": 30,
   "id": "acbbdd3f",
   "metadata": {},
   "outputs": [
    {
     "data": {
      "text/plain": [
       "Text(0.5, 1.0, 'experiment (group = 1)')"
      ]
     },
     "execution_count": 30,
     "metadata": {},
     "output_type": "execute_result"
    },
    {
     "data": {
      "image/png": "[encoded data removed]",
      "text/plain": [
       "<Figure size 1440x720 with 2 Axes>"
      ]
     },
     "metadata": {
      "needs_background": "light"
     },
     "output_type": "display_data"
    }
   ],
   "source": [
    "fig, axs = plt.subplots(ncols=2)\n",
    "fig.set_figwidth(20)\n",
    "fig.set_figheight(10)\n",
    "\n",
    "pg.qqplot(x=aggregate.query('group == 0').actions, ax=axs[0])\n",
    "axs[0].set_title('control (group = 0)')\n",
    "pg.qqplot(x=aggregate.query('group == 1').actions, ax=axs[1])\n",
    "axs[1].set_title('experiment (group = 1)')"
   ]
  },
  {
   "cell_type": "code",
   "execution_count": 31,
   "id": "6e01ca01",
   "metadata": {},
   "outputs": [
    {
     "data": {
      "text/html": [
       "<div>\n",
       "<style scoped>\n",
       "    .dataframe tbody tr th:only-of-type {\n",
       "        vertical-align: middle;\n",
       "    }\n",
       "\n",
       "    .dataframe tbody tr th {\n",
       "        vertical-align: top;\n",
       "    }\n",
       "\n",
       "    .dataframe thead th {\n",
       "        text-align: right;\n",
       "    }\n",
       "</style>\n",
       "<table border=\"1\" class=\"dataframe\">\n",
       "  <thead>\n",
       "    <tr style=\"text-align: right;\">\n",
       "      <th></th>\n",
       "      <th>W</th>\n",
       "      <th>pval</th>\n",
       "      <th>normal</th>\n",
       "    </tr>\n",
       "    <tr>\n",
       "      <th>group</th>\n",
       "      <th></th>\n",
       "      <th></th>\n",
       "      <th></th>\n",
       "    </tr>\n",
       "  </thead>\n",
       "  <tbody>\n",
       "    <tr>\n",
       "      <th>1</th>\n",
       "      <td>0.983930</td>\n",
       "      <td>0.000025</td>\n",
       "      <td>False</td>\n",
       "    </tr>\n",
       "    <tr>\n",
       "      <th>0</th>\n",
       "      <td>0.988484</td>\n",
       "      <td>0.000557</td>\n",
       "      <td>False</td>\n",
       "    </tr>\n",
       "  </tbody>\n",
       "</table>\n",
       "</div>"
      ],
      "text/plain": [
       "              W      pval  normal\n",
       "group                            \n",
       "1      0.983930  0.000025   False\n",
       "0      0.988484  0.000557   False"
      ]
     },
     "execution_count": 31,
     "metadata": {},
     "output_type": "execute_result"
    }
   ],
   "source": [
    "pg.normality(data=aggregate, dv='actions', group='group')"
   ]
  },
  {
   "cell_type": "code",
   "execution_count": 32,
   "id": "9e3f879c",
   "metadata": {},
   "outputs": [
    {
     "data": {
      "text/plain": [
       "NormaltestResult(statistic=2.4061675155374465, pvalue=0.300266832562874)"
      ]
     },
     "execution_count": 32,
     "metadata": {},
     "output_type": "execute_result"
    }
   ],
   "source": [
    "ss.normaltest(aggregate.query('group == 0').actions)"
   ]
  },
  {
   "cell_type": "code",
   "execution_count": 33,
   "id": "9aa1728e",
   "metadata": {},
   "outputs": [
    {
     "data": {
      "text/plain": [
       "NormaltestResult(statistic=4.262188990750172, pvalue=0.11870729813673231)"
      ]
     },
     "execution_count": 33,
     "metadata": {},
     "output_type": "execute_result"
    }
   ],
   "source": [
    "ss.normaltest(aggregate.query('group == 1').actions)"
   ]
  },
  {
   "cell_type": "markdown",
   "id": "2afae5ee",
   "metadata": {},
   "source": [
    "<i>Исходя из вышеприведенных результатов можно сделать вывод, что не нужно принимать решения \"на глаз\". Тесты на нормальность показали, что наши распределения не являются нормальными.\n",
    "\n",
    "Мы хотим понять, есть ли статистически значимые различия между двумя группами. Будем сравнивать средние значения количества действий.  \n",
    "\n",
    "Нормальность данных критична только для очень маленьких выборок (примерный ориентир – меньше 30). У нас выборки по 500 записей в каждой, поэтому т-тест будет работать корректно. Тест должен быть параметрическим, т.к. все параметры выборки нам известны.\n",
    "\n",
    "Плюс мы знаем, что стандартные отклонения наших выборок примерно равны. Поэтому для сравнения средних значений между двумя группами будем использовать <u>т-критерий Стьюдента</u> для наших несвязанных выборок, где:</i>\n",
    "* <b><font color='red'> $H_0$ (нулевая гипотеза) говорит, о том что средние значения не отличаются;</font></b>\n",
    "\n",
    "* <b><font color='green'> $H_1$ (альтернативная гипотеза) говорит, о том что средние значения в выборках отличаются.</font></b>\n",
    "\n",
    "Если рассчитанное p-value будет меньше 0.05, можно будет отвергнуть нулевую гипотезу.\n",
    "\n",
    "* Произведем расчеты т-теста разными библиотеками:  "
   ]
  },
  {
   "cell_type": "code",
   "execution_count": 34,
   "id": "3a64c179",
   "metadata": {},
   "outputs": [
    {
     "data": {
      "text/html": [
       "<div>\n",
       "<style scoped>\n",
       "    .dataframe tbody tr th:only-of-type {\n",
       "        vertical-align: middle;\n",
       "    }\n",
       "\n",
       "    .dataframe tbody tr th {\n",
       "        vertical-align: top;\n",
       "    }\n",
       "\n",
       "    .dataframe thead th {\n",
       "        text-align: right;\n",
       "    }\n",
       "</style>\n",
       "<table border=\"1\" class=\"dataframe\">\n",
       "  <thead>\n",
       "    <tr style=\"text-align: right;\">\n",
       "      <th></th>\n",
       "      <th>T</th>\n",
       "      <th>dof</th>\n",
       "      <th>alternative</th>\n",
       "      <th>p-val</th>\n",
       "      <th>CI95%</th>\n",
       "      <th>cohen-d</th>\n",
       "      <th>BF10</th>\n",
       "      <th>power</th>\n",
       "    </tr>\n",
       "  </thead>\n",
       "  <tbody>\n",
       "    <tr>\n",
       "      <th>T-test</th>\n",
       "      <td>-51.853838</td>\n",
       "      <td>998</td>\n",
       "      <td>two-sided</td>\n",
       "      <td>1.894288e-285</td>\n",
       "      <td>[-10.29, -9.54]</td>\n",
       "      <td>3.279531</td>\n",
       "      <td>9.524e+280</td>\n",
       "      <td>1.0</td>\n",
       "    </tr>\n",
       "  </tbody>\n",
       "</table>\n",
       "</div>"
      ],
      "text/plain": [
       "                T  dof alternative          p-val            CI95%   cohen-d  \\\n",
       "T-test -51.853838  998   two-sided  1.894288e-285  [-10.29, -9.54]  3.279531   \n",
       "\n",
       "              BF10  power  \n",
       "T-test  9.524e+280    1.0  "
      ]
     },
     "execution_count": 34,
     "metadata": {},
     "output_type": "execute_result"
    }
   ],
   "source": [
    "pg.ttest(aggregate.query('group == 0').actions, \n",
    "         aggregate.query('group == 1').actions,\n",
    "        correction=False)"
   ]
  },
  {
   "cell_type": "code",
   "execution_count": 35,
   "id": "30a3134e",
   "metadata": {},
   "outputs": [
    {
     "data": {
      "text/plain": [
       "Ttest_indResult(statistic=-51.85383774946492, pvalue=1.8942877064043142e-285)"
      ]
     },
     "execution_count": 35,
     "metadata": {},
     "output_type": "execute_result"
    }
   ],
   "source": [
    "ss.ttest_ind(aggregate.query('group == 0').actions, \n",
    "         aggregate.query('group == 1').actions,\n",
    "            equal_var=True)"
   ]
  },
  {
   "cell_type": "markdown",
   "id": "29cff6dd",
   "metadata": {},
   "source": [
    "**Мы получили в качестве p-value очень маленькое число - со степенью \"-(минус) 285\". Это говорит нам, что мы можем отвергнуть нулевую гипотезу и сделать вывод, что <font color='green'>средние между двумя группами статистически различаются.</font>**\n",
    "\n",
    "**Отрицательное значение переменной т-статистики говорит нам о том, что среднее количество действий в экспериментальной группе выше, чем в контрольной. То есть мы статистически подтвердили полученные выше данные.**"
   ]
  },
  {
   "cell_type": "markdown",
   "id": "e25eb8f4",
   "metadata": {},
   "source": [
    "\n",
    "\n",
    "# Аналитическое заключение проведенного анализа данных\n",
    "\n",
    "<i>Сравнив контрольную и экспериментальную (тестовую) группы по 2 метрикам: доли мэтчей и количеству действий (лайков/дизлайков) можно сделать следующий вывод.</i>\n",
    "\n",
    "* Эксперимент показал, что доля мэтчей с новым алгоритмом увеличилась. Более того, у нас увеличилось количество действий пользователей в нашем приложении, они стали больше лайкать и дизлайкать. Поэтому новый алгоритм действительно улучшил наш сервис. \n",
    "\n",
    "<b>Резюме: <p><font color='green'>> Предлагаем включить новый алгоритм поиска подходящих анкет для всех пользователей нашего приложения.</font></b></p>"
   ]
  }
 ],
 "metadata": {
  "kernelspec": {
   "display_name": "Python 3 (ipykernel)",
   "language": "python",
   "name": "python3"
  },
  "language_info": {
   "codemirror_mode": {
    "name": "ipython",
    "version": 3
   },
   "file_extension": ".py",
   "mimetype": "text/x-python",
   "name": "python",
   "nbconvert_exporter": "python",
   "pygments_lexer": "ipython3",
   "version": "3.12.8"
  }
 },
 "nbformat": 4,
 "nbformat_minor": 5
}
